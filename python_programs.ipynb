{
  "nbformat": 4,
  "nbformat_minor": 0,
  "metadata": {
    "colab": {
      "provenance": [],
      "authorship_tag": "ABX9TyPuM3rj/R9FPKX2GGTQpTd9",
      "include_colab_link": true
    },
    "kernelspec": {
      "name": "python3",
      "display_name": "Python 3"
    },
    "language_info": {
      "name": "python"
    }
  },
  "cells": [
    {
      "cell_type": "markdown",
      "metadata": {
        "id": "view-in-github",
        "colab_type": "text"
      },
      "source": [
        "<a href=\"https://colab.research.google.com/github/naveenhks/ai/blob/master/python_programs.ipynb\" target=\"_parent\"><img src=\"https://colab.research.google.com/assets/colab-badge.svg\" alt=\"Open In Colab\"/></a>"
      ]
    },
    {
      "cell_type": "markdown",
      "source": [
        "Python provides lots of builtin libraries. Lets explore few libraries. \n",
        "\n",
        "random - this is used to gerneare a random selection number from the range of numbers. This code will basically import random library using the keyword \"**import**\" which allows us to use the functions available as a part of the library. **randint** is a function which picks a number from the range of values provided and stores in a variable. "
      ],
      "metadata": {
        "id": "Led8Y6jGGrbM"
      }
    },
    {
      "cell_type": "code",
      "execution_count": 8,
      "metadata": {
        "colab": {
          "base_uri": "https://localhost:8080/"
        },
        "id": "vA17A_2qGK_W",
        "outputId": "e7542007-690b-4ade-c9c2-9402a159a332"
      },
      "outputs": [
        {
          "output_type": "stream",
          "name": "stdout",
          "text": [
            "dice roll:\n",
            "4\n"
          ]
        }
      ],
      "source": [
        "from random import randint\n",
        "x = randint(1,6)\n",
        "print(\"dice roll:\")\n",
        "print(x)"
      ]
    },
    {
      "cell_type": "markdown",
      "source": [
        "Another example program using randint \n"
      ],
      "metadata": {
        "id": "xoaHoE2JHyFF"
      }
    },
    {
      "cell_type": "code",
      "source": [
        "from random import randint\n",
        "roll=randint(1, 6)\n",
        "print(roll)\n",
        "if roll < 5 :\n",
        "    repeat=roll\n",
        "    print(roll)\n",
        "else:\n",
        "    print(\"You lose\")"
      ],
      "metadata": {
        "colab": {
          "base_uri": "https://localhost:8080/"
        },
        "id": "Di9f9Lf1H-_B",
        "outputId": "3214fcad-3c5f-4390-f28e-2d99bbf38fca"
      },
      "execution_count": 17,
      "outputs": [
        {
          "output_type": "stream",
          "name": "stdout",
          "text": [
            "6\n",
            "You lose\n"
          ]
        }
      ]
    },
    {
      "cell_type": "markdown",
      "source": [
        "Another example program using **randint** function "
      ],
      "metadata": {
        "id": "Gar2G88MI-nS"
      }
    },
    {
      "cell_type": "code",
      "source": [
        "from random import randint\n",
        "wlist=[\"wild\",\"fluffy\",\"hilarious\",\"brilliant\",\"Unforgetabe\",\"colorful\"];\n",
        "wlistlen= len(wlist);\n",
        "x=randint(0,wlistlen-1);\n",
        "wlist.remove(wlist[x]);\n",
        "print(wlist);\n",
        "wlist.remove(wlist[x]);\n",
        "print(wlist);\n"
      ],
      "metadata": {
        "colab": {
          "base_uri": "https://localhost:8080/"
        },
        "id": "wzwU_kO2Je-D",
        "outputId": "9056b3c3-d90b-4819-a7a1-2231eeb3c79c"
      },
      "execution_count": 40,
      "outputs": [
        {
          "output_type": "stream",
          "name": "stdout",
          "text": [
            "['wild', 'hilarious', 'brilliant', 'Unforgetabe', 'colorful']\n",
            "['wild', 'brilliant', 'Unforgetabe', 'colorful']\n"
          ]
        }
      ]
    },
    {
      "cell_type": "markdown",
      "source": [
        "Sorting a list is another way to rearrange the elements in a list in sorted order. see below example."
      ],
      "metadata": {
        "id": "n-tbZO9KWLlQ"
      }
    },
    {
      "cell_type": "code",
      "source": [
        "l1 = [10, 20, 30, 40, 50]\n",
        "l2 = [20, 30, 50, 40, 70]\n",
        "l3 = [50, 10, 30, 20, 40]\n",
        "\n",
        "l1_sorted = sorted(l1)\n",
        "l2_sorted = sorted(l2)\n",
        "l3_sorted = sorted(l3)\n",
        "\n",
        "if l1_sorted == l2_sorted:\n",
        "    print (\"The lists l1 and l2 are the same\")\n",
        "else:\n",
        "    print (\"The lists l1 and l2 are not the same\")\n",
        "\n",
        "if l1_sorted == l3_sorted:\n",
        "    print (\"The lists l1 and l3 are the same\")\n",
        "else:\n",
        "    print (\"The lists l1 and l3 are not the same\")"
      ],
      "metadata": {
        "colab": {
          "base_uri": "https://localhost:8080/"
        },
        "id": "KWsvJ-gVWRLe",
        "outputId": "e0a3ba29-0427-414e-fc82-d16df645ddaf"
      },
      "execution_count": 41,
      "outputs": [
        {
          "output_type": "stream",
          "name": "stdout",
          "text": [
            "The lists l1 and l2 are not the same\n",
            "The lists l1 and l3 are the same\n"
          ]
        }
      ]
    },
    {
      "cell_type": "markdown",
      "source": [
        "Anothr example where we accept an user input and process it. "
      ],
      "metadata": {
        "id": "XakUnRekW_iP"
      }
    },
    {
      "cell_type": "code",
      "source": [
        "marks = float(input(\"Marks in Computer Science: \"))\n",
        "\n",
        "if marks > 90:\n",
        "    print(\"Grade is A+\")\n",
        "elif marks >= 80 and marks < 90:\n",
        "    print(\"Grade is A\")\n",
        "elif marks >= 70 and marks < 80:\n",
        "    print(\"Grade is A-\")\n",
        "else:\n",
        "    print(\"Grade: F\")\n"
      ],
      "metadata": {
        "colab": {
          "base_uri": "https://localhost:8080/"
        },
        "id": "GnINA-QmXIHe",
        "outputId": "950d7f5d-672d-48c6-cbaf-54b6b0bf8fdc"
      },
      "execution_count": 46,
      "outputs": [
        {
          "output_type": "stream",
          "name": "stdout",
          "text": [
            "Marks in Computer Science: 22\n",
            "Grade: F\n"
          ]
        }
      ]
    },
    {
      "cell_type": "markdown",
      "source": [
        "Next module that we discuss today is statistics module which provides functions to mathematical statistics of numeric data. \n",
        "\n",
        "We will also see how to round the float values to desired decimals using format specifier"
      ],
      "metadata": {
        "id": "I-EmGg5JZVGI"
      }
    },
    {
      "cell_type": "code",
      "source": [
        "import statistics\n",
        "numlist = [20,43,55,67,89,29,56]\n",
        "\n",
        "print(\"Mean {0} and Median {1}.\".format(statistics.mean(numlist), statistics.median(numlist)))\n",
        "\n",
        "num = statistics.mean(numlist)\n",
        "mean_rounded = f\"{num:.0f}\"\n",
        "print(\"Mean {0}\".format(mean_rounded))"
      ],
      "metadata": {
        "colab": {
          "base_uri": "https://localhost:8080/"
        },
        "id": "106XK_quZz-s",
        "outputId": "66695d02-5791-461e-d045-762d7759e926"
      },
      "execution_count": 63,
      "outputs": [
        {
          "output_type": "stream",
          "name": "stdout",
          "text": [
            "Mean 51.285714285714285 and Median 55.\n",
            "Mean 99\n"
          ]
        }
      ]
    },
    {
      "cell_type": "markdown",
      "source": [
        "Lets see how to push elements to list. Using this concept write a program to accept marks for 5 subjects and calculatae mean and median of the 5 subjects\n"
      ],
      "metadata": {
        "id": "4pzO1co2dZv9"
      }
    },
    {
      "cell_type": "code",
      "source": [
        "marks = [73, 87, 79]\n",
        "marks.append(88)\n",
        "print(marks)\n",
        "\n",
        "marks.remove(87)\n",
        "print(marks)"
      ],
      "metadata": {
        "colab": {
          "base_uri": "https://localhost:8080/"
        },
        "id": "faCS240edcWi",
        "outputId": "cb006790-a8a8-4245-c7e6-2ab8f68601ca"
      },
      "execution_count": 66,
      "outputs": [
        {
          "output_type": "stream",
          "name": "stdout",
          "text": [
            "[73, 87, 79, 88]\n",
            "[73, 79, 88]\n"
          ]
        }
      ]
    }
  ]
}