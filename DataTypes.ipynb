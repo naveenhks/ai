{
  "nbformat": 4,
  "nbformat_minor": 0,
  "metadata": {
    "colab": {
      "provenance": [],
      "include_colab_link": true
    },
    "kernelspec": {
      "name": "python3",
      "display_name": "Python 3"
    },
    "language_info": {
      "name": "python"
    }
  },
  "cells": [
    {
      "cell_type": "markdown",
      "metadata": {
        "id": "view-in-github",
        "colab_type": "text"
      },
      "source": [
        "<a href=\"https://colab.research.google.com/github/naveenhks/ai/blob/master/DataTypes.ipynb\" target=\"_parent\"><img src=\"https://colab.research.google.com/assets/colab-badge.svg\" alt=\"Open In Colab\"/></a>"
      ]
    },
    {
      "cell_type": "code",
      "execution_count": null,
      "metadata": {
        "id": "HcrAPDpwSRE2"
      },
      "outputs": [],
      "source": []
    },
    {
      "cell_type": "markdown",
      "source": [
        "**what is a variable?**\n",
        "\n",
        "A variable is a container (similar to a Box) that holds information that you can access. \n",
        "All variables are stored in non Persistent memory called **R**andom **A**ccess **M**eoory (RAM). \n",
        "\n",
        "Ever variable should have a name so that we can store value. There are 2 types of variables scalars and vectors. A scalar can store only single value.\n",
        "\n",
        "Value can be any thing such as text, integers, fractions, etc. However, If you want to store text then you need to define the variable such that it can store text. If you want to store numbers then you need to define the variable as number.\n",
        "\n",
        "# Some built-in Python data types are:\n",
        "```\n",
        "Numeric data types: int, float\n",
        "String data types : str\n",
        "Sequence types    : list, tuple, range\n",
        "Binary types      : bytes, bytearray, memoryview\n",
        "Mapping data type : dict\n",
        "Boolean type      : bool\n",
        "Set data types.   : set, frozenset\n",
        "```\n",
        "\n",
        "# Python numeric data type:\n",
        "```\n",
        "int   - holds signed integers.\n",
        "float - holds floating precision numbers (up to 15 decimal places).\n",
        "```\n"
      ],
      "metadata": {
        "id": "_kpC3Vw8oqAf"
      }
    },
    {
      "cell_type": "code",
      "source": [
        "#create a variable with integer value.\n",
        "a=591\n",
        "print(\"The type of variable having value\", a, \" is \", type(a))\n",
        "\n",
        "#create a variable with float value.\n",
        "b=10.092\n",
        "print(\"The type of variable having value\", b, \" is \", type(b))\n"
      ],
      "metadata": {
        "id": "3o5soXRFusFM"
      },
      "execution_count": null,
      "outputs": []
    }
  ]
}