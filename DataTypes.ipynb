{
  "nbformat": 4,
  "nbformat_minor": 0,
  "metadata": {
    "colab": {
      "provenance": [],
      "include_colab_link": true
    },
    "kernelspec": {
      "name": "python3",
      "display_name": "Python 3"
    },
    "language_info": {
      "name": "python"
    }
  },
  "cells": [
    {
      "cell_type": "markdown",
      "metadata": {
        "id": "view-in-github",
        "colab_type": "text"
      },
      "source": [
        "<a href=\"https://colab.research.google.com/github/naveenhks/ai/blob/master/DataTypes.ipynb\" target=\"_parent\"><img src=\"https://colab.research.google.com/assets/colab-badge.svg\" alt=\"Open In Colab\"/></a>"
      ]
    },
    {
      "cell_type": "markdown",
      "source": [
        "# **what is a variable?**\n",
        "\n",
        "A variable is a container (similar to a Box) that holds information that you can access. \n",
        "All variables are stored in non Persistent memory called **R**andom **A**ccess **M**eoory (RAM). \n",
        "\n",
        "Ever variable should have a name so that we can store value. There are 2 types of variables scalars and vectors. A scalar can store only single value.\n",
        "\n",
        "Value can be any thing such as text, integers, fractions, etc. However, If you want to store text then you need to define the variable such that it can store text. If you want to store numbers then you need to define the variable as number.\n",
        "\n",
        "# Built-in data types\n",
        "```\n",
        "Numeric data types: int, float\n",
        "String data types : str\n",
        "Sequence types    : list, tuple, range\n",
        "Binary types      : bytes, bytearray, memoryview\n",
        "Mapping data type : dict\n",
        "Boolean type      : bool\n",
        "Set data types.   : set, frozenset\n",
        "```\n",
        "\n",
        "# Numeric data type\n",
        "```\n",
        "int   - holds signed integers.\n",
        "float - holds floating precision numbers (up to 15 decimal places).\n",
        "```\n",
        "\n",
        "# String Data Type\n",
        "The string is a sequence of characters. Generally, strings are represented by either single or double-quotes\n"
      ],
      "metadata": {
        "id": "_kpC3Vw8oqAf"
      }
    },
    {
      "cell_type": "code",
      "source": [
        "#create a variable with integer value.\n",
        "a=591\n",
        "print(\"The type of variable having value\", a, \" is \", type(a))\n",
        "\n",
        "#create a variable with float value.\n",
        "b=10.092\n",
        "print(\"The type of variable having value\", b, \" is \", type(b))\n"
      ],
      "metadata": {
        "id": "3o5soXRFusFM"
      },
      "execution_count": null,
      "outputs": []
    },
    {
      "cell_type": "code",
      "source": [
        "a= \"string defined in double quote\"\n",
        "b= 'string defined in single quote'\n",
        "print(a)\n",
        "print(b)\n"
      ],
      "metadata": {
        "id": "Ye5P6nZvwLw9"
      },
      "execution_count": null,
      "outputs": []
    },
    {
      "cell_type": "markdown",
      "source": [
        "# List Data Type\n",
        "The list is a data type exclusive in Python. This is similar to ARRAY. A list can hold different types of data and is an ordered sequence of some data written using square brackets([]) and commas(,).\n",
        "\n",
        "\n",
        "\n"
      ],
      "metadata": {
        "id": "OvONsBIFxQlz"
      }
    },
    {
      "cell_type": "code",
      "source": [
        "#list of having only integers\n",
        "a= [1,2,3]\n",
        "print(a)\n",
        "\n",
        "#list of having only strings\n",
        "b=[\"hello\",\"High\",\"School\"]\n",
        "print(b)\n",
        "\n",
        "#list of having both integers and strings\n",
        "c= [\"Learn\",\"python\",1,2,3,\"go\"]\n",
        "print(c)\n",
        "\n",
        "#index are 0 based. this will print a single character\n",
        "print(c[1]) #this will print \"you\" in list c"
      ],
      "metadata": {
        "id": "lZdq-XAryamE"
      },
      "execution_count": null,
      "outputs": []
    }
  ]
}